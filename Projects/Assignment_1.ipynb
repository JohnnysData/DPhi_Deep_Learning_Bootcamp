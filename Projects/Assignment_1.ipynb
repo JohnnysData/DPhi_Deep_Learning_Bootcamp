{
  "nbformat": 4,
  "nbformat_minor": 0,
  "metadata": {
    "colab": {
      "name": "Assignment_1.ipynb",
      "provenance": [],
      "collapsed_sections": []
    },
    "kernelspec": {
      "name": "python3",
      "display_name": "Python 3"
    }
  },
  "cells": [
    {
      "cell_type": "markdown",
      "metadata": {
        "id": "rWRVNes2QQh9",
        "colab_type": "text"
      },
      "source": [
        "# **Assignment 1**\n",
        "\n",
        "Name:  Johny Ijaq  \n",
        "Course:  Deep Learrning Bootcamp  \n",
        "Track:  Beginners    \n",
        "\n",
        "## **Contents**\n",
        "\n",
        "1.   Introduction\n",
        "2.   Data Description  \n",
        "3.   Loading the Basic Libraries  \n",
        "4.   Loading the Data\n",
        "5.   Separating Input and Target Variables\n",
        "6.   Splitting into Train and Test Sets\n",
        "7.   Building a Model  \n",
        "\n",
        "     7.1. Model Creation/Defining the Model  \n",
        "     7.2. Model Compilation  \n",
        "     7.3. Model Training  \n",
        "     7.4. Model Evaluation    \n",
        "     * Model Accuracy  \n",
        "     * Model Loss  \n",
        "8.   Loading the Test Data\n",
        "9.   Predictions\n",
        "10. Acknowledgements\n",
        "\n",
        "\n",
        "\n",
        "\n",
        "\n",
        "\n",
        "\n",
        "\n",
        "\n",
        "\n",
        "\n",
        "          \n",
        "\n",
        "\n",
        "          \n",
        "\n",
        "\n",
        "\n",
        "\n",
        " \n",
        "\n",
        "\n",
        "\n",
        "\n"
      ]
    },
    {
      "cell_type": "markdown",
      "metadata": {
        "id": "svEz-oS3WlU6",
        "colab_type": "text"
      },
      "source": [
        "# Introduction\n",
        "\n",
        "Building a model to predict **whether a note is genuine or not**. As there are 2 classes, it is a Binary Classification problem.\n",
        "\n",
        "The 2 classes are:\n",
        "\n",
        "1. Genuine (target=1)  \n",
        "2. Forged (target=0)"
      ]
    },
    {
      "cell_type": "markdown",
      "metadata": {
        "id": "vmd-9cKHZaGY",
        "colab_type": "text"
      },
      "source": [
        "# Data Description\n",
        "\n",
        "* **VWTI:** Variance of Wavelet Transformed Image  \n",
        "* **SWTI:** Skewness of Wavelet Transformed Image  \n",
        "* **CWTI:** Curtosis of Wavelet Transformed Image   \n",
        "* **EI:** Entropy of Image  \n",
        "* **Class:** Class (1: genuine, 0: forged)  "
      ]
    },
    {
      "cell_type": "markdown",
      "metadata": {
        "id": "0zl7BvP_Z5Pq",
        "colab_type": "text"
      },
      "source": [
        "# Loading the Basic Libraries"
      ]
    },
    {
      "cell_type": "code",
      "metadata": {
        "id": "FGmbBsaUBcer",
        "colab_type": "code",
        "colab": {}
      },
      "source": [
        "import pandas as pd  # for loading the CSV files\n",
        "import numpy as np   # for matrix operations\n",
        "import matplotlib.pyplot as plt # for visualization\n"
      ],
      "execution_count": null,
      "outputs": []
    },
    {
      "cell_type": "markdown",
      "metadata": {
        "id": "AWec7whnBw5j",
        "colab_type": "text"
      },
      "source": [
        "# Loading the Data"
      ]
    },
    {
      "cell_type": "code",
      "metadata": {
        "id": "nGRl5uWgBqiF",
        "colab_type": "code",
        "colab": {}
      },
      "source": [
        "data = pd.read_csv(\"https://raw.githubusercontent.com/dphi-official/Datasets/master/bank_note_data/training_set_label.csv\")"
      ],
      "execution_count": null,
      "outputs": []
    },
    {
      "cell_type": "code",
      "metadata": {
        "id": "4SIRRST8B803",
        "colab_type": "code",
        "colab": {
          "base_uri": "https://localhost:8080/",
          "height": 204
        },
        "outputId": "a1084773-5ef2-4170-b0ac-200ab7af0205"
      },
      "source": [
        "data.head()"
      ],
      "execution_count": null,
      "outputs": [
        {
          "output_type": "execute_result",
          "data": {
            "text/html": [
              "<div>\n",
              "<style scoped>\n",
              "    .dataframe tbody tr th:only-of-type {\n",
              "        vertical-align: middle;\n",
              "    }\n",
              "\n",
              "    .dataframe tbody tr th {\n",
              "        vertical-align: top;\n",
              "    }\n",
              "\n",
              "    .dataframe thead th {\n",
              "        text-align: right;\n",
              "    }\n",
              "</style>\n",
              "<table border=\"1\" class=\"dataframe\">\n",
              "  <thead>\n",
              "    <tr style=\"text-align: right;\">\n",
              "      <th></th>\n",
              "      <th>VWTI</th>\n",
              "      <th>SWTI</th>\n",
              "      <th>CWTI</th>\n",
              "      <th>EI</th>\n",
              "      <th>Class</th>\n",
              "    </tr>\n",
              "  </thead>\n",
              "  <tbody>\n",
              "    <tr>\n",
              "      <th>0</th>\n",
              "      <td>2.2634</td>\n",
              "      <td>-4.4862</td>\n",
              "      <td>3.6558</td>\n",
              "      <td>-0.612510</td>\n",
              "      <td>0</td>\n",
              "    </tr>\n",
              "    <tr>\n",
              "      <th>1</th>\n",
              "      <td>3.2718</td>\n",
              "      <td>1.7837</td>\n",
              "      <td>2.1161</td>\n",
              "      <td>0.613340</td>\n",
              "      <td>0</td>\n",
              "    </tr>\n",
              "    <tr>\n",
              "      <th>2</th>\n",
              "      <td>-3.9411</td>\n",
              "      <td>-12.8792</td>\n",
              "      <td>13.0597</td>\n",
              "      <td>-3.312500</td>\n",
              "      <td>1</td>\n",
              "    </tr>\n",
              "    <tr>\n",
              "      <th>3</th>\n",
              "      <td>0.5195</td>\n",
              "      <td>-3.2633</td>\n",
              "      <td>3.0895</td>\n",
              "      <td>-0.984900</td>\n",
              "      <td>0</td>\n",
              "    </tr>\n",
              "    <tr>\n",
              "      <th>4</th>\n",
              "      <td>2.5698</td>\n",
              "      <td>-4.4076</td>\n",
              "      <td>5.9856</td>\n",
              "      <td>0.078002</td>\n",
              "      <td>0</td>\n",
              "    </tr>\n",
              "  </tbody>\n",
              "</table>\n",
              "</div>"
            ],
            "text/plain": [
              "     VWTI     SWTI     CWTI        EI  Class\n",
              "0  2.2634  -4.4862   3.6558 -0.612510      0\n",
              "1  3.2718   1.7837   2.1161  0.613340      0\n",
              "2 -3.9411 -12.8792  13.0597 -3.312500      1\n",
              "3  0.5195  -3.2633   3.0895 -0.984900      0\n",
              "4  2.5698  -4.4076   5.9856  0.078002      0"
            ]
          },
          "metadata": {
            "tags": []
          },
          "execution_count": 4
        }
      ]
    },
    {
      "cell_type": "code",
      "metadata": {
        "id": "yMTOgZ2BFT59",
        "colab_type": "code",
        "colab": {
          "base_uri": "https://localhost:8080/",
          "height": 34
        },
        "outputId": "767cbc01-5dc9-4e16-b424-43ef05853625"
      },
      "source": [
        "data.shape"
      ],
      "execution_count": null,
      "outputs": [
        {
          "output_type": "execute_result",
          "data": {
            "text/plain": [
              "(1096, 5)"
            ]
          },
          "metadata": {
            "tags": []
          },
          "execution_count": 5
        }
      ]
    },
    {
      "cell_type": "code",
      "metadata": {
        "id": "V-HQfcPjFX0t",
        "colab_type": "code",
        "colab": {
          "base_uri": "https://localhost:8080/",
          "height": 119
        },
        "outputId": "65d6a0db-1ac0-4f7e-87e9-011bf81f8714"
      },
      "source": [
        "data.isnull().sum() # to check for missing values"
      ],
      "execution_count": null,
      "outputs": [
        {
          "output_type": "execute_result",
          "data": {
            "text/plain": [
              "VWTI     0\n",
              "SWTI     0\n",
              "CWTI     0\n",
              "EI       0\n",
              "Class    0\n",
              "dtype: int64"
            ]
          },
          "metadata": {
            "tags": []
          },
          "execution_count": 6
        }
      ]
    },
    {
      "cell_type": "markdown",
      "metadata": {
        "id": "gYI4OEIoFhJf",
        "colab_type": "text"
      },
      "source": [
        "# Separating Input and Target Variables"
      ]
    },
    {
      "cell_type": "code",
      "metadata": {
        "id": "6Eh5d2-QFa_V",
        "colab_type": "code",
        "colab": {}
      },
      "source": [
        "X = data.drop(\"Class\", axis= 1)  # input variables\n",
        "y = data[\"Class\"]    # target variable"
      ],
      "execution_count": null,
      "outputs": []
    },
    {
      "cell_type": "markdown",
      "metadata": {
        "id": "rNi2fCjSGRj2",
        "colab_type": "text"
      },
      "source": [
        "# Splitting into Train and Test sets"
      ]
    },
    {
      "cell_type": "code",
      "metadata": {
        "id": "RQTvoqtrF2u8",
        "colab_type": "code",
        "colab": {}
      },
      "source": [
        "from sklearn.model_selection import train_test_split\n",
        "X_train, X_test, y_train, y_test = train_test_split(X, y, test_size = 0.2, random_state = 20)"
      ],
      "execution_count": null,
      "outputs": []
    },
    {
      "cell_type": "code",
      "metadata": {
        "id": "mivFRcn-GpmE",
        "colab_type": "code",
        "colab": {
          "base_uri": "https://localhost:8080/",
          "height": 34
        },
        "outputId": "5fc4ba13-d3cb-4e4e-c94d-9aadc8f15a1a"
      },
      "source": [
        "X_train.shape"
      ],
      "execution_count": null,
      "outputs": [
        {
          "output_type": "execute_result",
          "data": {
            "text/plain": [
              "(876, 4)"
            ]
          },
          "metadata": {
            "tags": []
          },
          "execution_count": 9
        }
      ]
    },
    {
      "cell_type": "code",
      "metadata": {
        "id": "J26pe3Z_HJwz",
        "colab_type": "code",
        "colab": {
          "base_uri": "https://localhost:8080/",
          "height": 34
        },
        "outputId": "29002848-7abf-4ebe-927b-e2147959ab29"
      },
      "source": [
        "X_test.shape"
      ],
      "execution_count": null,
      "outputs": [
        {
          "output_type": "execute_result",
          "data": {
            "text/plain": [
              "(220, 4)"
            ]
          },
          "metadata": {
            "tags": []
          },
          "execution_count": 10
        }
      ]
    },
    {
      "cell_type": "code",
      "metadata": {
        "id": "jR2XeRw4HMe4",
        "colab_type": "code",
        "colab": {
          "base_uri": "https://localhost:8080/",
          "height": 51
        },
        "outputId": "b36c0af8-cb0b-4895-8f02-b75e0c1e1064"
      },
      "source": [
        "print(y_train.shape)\n",
        "print(y_test.shape)"
      ],
      "execution_count": null,
      "outputs": [
        {
          "output_type": "stream",
          "text": [
            "(876,)\n",
            "(220,)\n"
          ],
          "name": "stdout"
        }
      ]
    },
    {
      "cell_type": "markdown",
      "metadata": {
        "id": "unyHC3dMIJ_L",
        "colab_type": "text"
      },
      "source": [
        "# Building a Model"
      ]
    },
    {
      "cell_type": "code",
      "metadata": {
        "id": "28BMdgeUIObC",
        "colab_type": "code",
        "colab": {}
      },
      "source": [
        "#importing libraries\n",
        "\n",
        "import tensorflow as tf\n",
        "from tensorflow import keras\n",
        "from tensorflow.keras import Sequential\n",
        "from tensorflow.keras.layers import Dense"
      ],
      "execution_count": null,
      "outputs": []
    },
    {
      "cell_type": "markdown",
      "metadata": {
        "id": "DU9A1eedbboc",
        "colab_type": "text"
      },
      "source": [
        "#### Defining the Model"
      ]
    },
    {
      "cell_type": "code",
      "metadata": {
        "id": "rmyy3MbLJmNN",
        "colab_type": "code",
        "colab": {}
      },
      "source": [
        "model = Sequential()\n",
        "model.add(Dense(6, activation = \"relu\", input_shape = (X_train.shape[1],)))\n",
        "#model.add(Dense(4,activation = \"relu\"))\n",
        "model.add(Dense(1, activation = \"sigmoid\"))"
      ],
      "execution_count": 107,
      "outputs": []
    },
    {
      "cell_type": "markdown",
      "metadata": {
        "id": "3fWF9RkoMRop",
        "colab_type": "text"
      },
      "source": [
        "#### Model compilation"
      ]
    },
    {
      "cell_type": "code",
      "metadata": {
        "id": "2rWeYpWlL9V6",
        "colab_type": "code",
        "colab": {}
      },
      "source": [
        "from tensorflow.keras.optimizers import RMSprop  \n",
        "optimizer = RMSprop(0.01)  # Here, we have set our learning rate as 0.01\n",
        "model.compile(loss = \"binary_crossentropy\", optimizer = optimizer, metrics = [\"accuracy\"]) "
      ],
      "execution_count": 108,
      "outputs": []
    },
    {
      "cell_type": "code",
      "metadata": {
        "id": "dzHKqleCNAV1",
        "colab_type": "code",
        "colab": {
          "base_uri": "https://localhost:8080/",
          "height": 221
        },
        "outputId": "122274e0-6708-4480-8533-16b8202aab9d"
      },
      "source": [
        "model.summary()"
      ],
      "execution_count": null,
      "outputs": [
        {
          "output_type": "stream",
          "text": [
            "Model: \"sequential\"\n",
            "_________________________________________________________________\n",
            "Layer (type)                 Output Shape              Param #   \n",
            "=================================================================\n",
            "dense (Dense)                (None, 2)                 10        \n",
            "_________________________________________________________________\n",
            "dense_1 (Dense)              (None, 1)                 3         \n",
            "=================================================================\n",
            "Total params: 13\n",
            "Trainable params: 13\n",
            "Non-trainable params: 0\n",
            "_________________________________________________________________\n"
          ],
          "name": "stdout"
        }
      ]
    },
    {
      "cell_type": "code",
      "metadata": {
        "id": "kG8Za3Q3NS-t",
        "colab_type": "code",
        "colab": {
          "base_uri": "https://localhost:8080/",
          "height": 272
        },
        "outputId": "56e64762-f6d2-4daf-dff2-175ce33cee51"
      },
      "source": [
        "from tensorflow.keras.utils import plot_model\n",
        "plot_model(model) "
      ],
      "execution_count": 72,
      "outputs": [
        {
          "output_type": "execute_result",
          "data": {
            "image/png": "[encoded data removed]",
            "text/plain": [
              "<IPython.core.display.Image object>"
            ]
          },
          "metadata": {
            "tags": []
          },
          "execution_count": 72
        }
      ]
    },
    {
      "cell_type": "markdown",
      "metadata": {
        "id": "aqsb609zPoTI",
        "colab_type": "text"
      },
      "source": [
        "#### Model Training"
      ]
    },
    {
      "cell_type": "code",
      "metadata": {
        "id": "q4COps4oNmhL",
        "colab_type": "code",
        "colab": {
          "base_uri": "https://localhost:8080/",
          "height": 1000
        },
        "outputId": "93a2addb-dff0-40a2-d2b1-6cada4462b5a"
      },
      "source": [
        "history = model.fit(X_train, y_train, validation_split = 0.2, epochs = 200, batch_size = 10, verbose = 1)"
      ],
      "execution_count": 109,
      "outputs": [
        {
          "output_type": "stream",
          "text": [
            "Epoch 1/200\n",
            "70/70 [==============================] - 0s 3ms/step - loss: 0.3876 - accuracy: 0.8329 - val_loss: 0.1126 - val_accuracy: 0.9773\n",
            "Epoch 2/200\n",
            "70/70 [==============================] - 0s 1ms/step - loss: 0.0593 - accuracy: 0.9886 - val_loss: 0.0357 - val_accuracy: 0.9886\n",
            "Epoch 3/200\n",
            "70/70 [==============================] - 0s 1ms/step - loss: 0.0230 - accuracy: 0.9986 - val_loss: 0.0181 - val_accuracy: 1.0000\n",
            "Epoch 4/200\n",
            "70/70 [==============================] - 0s 1ms/step - loss: 0.0110 - accuracy: 1.0000 - val_loss: 0.0112 - val_accuracy: 1.0000\n",
            "Epoch 5/200\n",
            "70/70 [==============================] - 0s 1ms/step - loss: 0.0067 - accuracy: 1.0000 - val_loss: 0.0085 - val_accuracy: 1.0000\n",
            "Epoch 6/200\n",
            "70/70 [==============================] - 0s 1ms/step - loss: 0.0051 - accuracy: 1.0000 - val_loss: 0.0046 - val_accuracy: 1.0000\n",
            "Epoch 7/200\n",
            "70/70 [==============================] - 0s 1ms/step - loss: 0.0028 - accuracy: 1.0000 - val_loss: 0.0033 - val_accuracy: 1.0000\n",
            "Epoch 8/200\n",
            "70/70 [==============================] - 0s 1ms/step - loss: 0.0027 - accuracy: 1.0000 - val_loss: 0.0023 - val_accuracy: 1.0000\n",
            "Epoch 9/200\n",
            "70/70 [==============================] - 0s 1ms/step - loss: 0.0019 - accuracy: 1.0000 - val_loss: 0.0016 - val_accuracy: 1.0000\n",
            "Epoch 10/200\n",
            "70/70 [==============================] - 0s 1ms/step - loss: 0.0011 - accuracy: 1.0000 - val_loss: 0.0012 - val_accuracy: 1.0000\n",
            "Epoch 11/200\n",
            "70/70 [==============================] - 0s 2ms/step - loss: 6.8808e-04 - accuracy: 1.0000 - val_loss: 8.4254e-04 - val_accuracy: 1.0000\n",
            "Epoch 12/200\n",
            "70/70 [==============================] - 0s 1ms/step - loss: 5.4946e-04 - accuracy: 1.0000 - val_loss: 6.1975e-04 - val_accuracy: 1.0000\n",
            "Epoch 13/200\n",
            "70/70 [==============================] - 0s 1ms/step - loss: 3.6284e-04 - accuracy: 1.0000 - val_loss: 4.9995e-04 - val_accuracy: 1.0000\n",
            "Epoch 14/200\n",
            "70/70 [==============================] - 0s 1ms/step - loss: 2.7269e-04 - accuracy: 1.0000 - val_loss: 2.8026e-04 - val_accuracy: 1.0000\n",
            "Epoch 15/200\n",
            "70/70 [==============================] - 0s 1ms/step - loss: 1.5862e-04 - accuracy: 1.0000 - val_loss: 4.4771e-04 - val_accuracy: 1.0000\n",
            "Epoch 16/200\n",
            "70/70 [==============================] - 0s 1ms/step - loss: 1.4225e-04 - accuracy: 1.0000 - val_loss: 1.4709e-04 - val_accuracy: 1.0000\n",
            "Epoch 17/200\n",
            "70/70 [==============================] - 0s 1ms/step - loss: 8.0338e-05 - accuracy: 1.0000 - val_loss: 1.3189e-04 - val_accuracy: 1.0000\n",
            "Epoch 18/200\n",
            "70/70 [==============================] - 0s 1ms/step - loss: 6.6232e-05 - accuracy: 1.0000 - val_loss: 9.6513e-05 - val_accuracy: 1.0000\n",
            "Epoch 19/200\n",
            "70/70 [==============================] - 0s 1ms/step - loss: 3.7305e-05 - accuracy: 1.0000 - val_loss: 4.2739e-05 - val_accuracy: 1.0000\n",
            "Epoch 20/200\n",
            "70/70 [==============================] - 0s 1ms/step - loss: 3.2002e-05 - accuracy: 1.0000 - val_loss: 3.1669e-05 - val_accuracy: 1.0000\n",
            "Epoch 21/200\n",
            "70/70 [==============================] - 0s 1ms/step - loss: 3.0915e-05 - accuracy: 1.0000 - val_loss: 2.2888e-05 - val_accuracy: 1.0000\n",
            "Epoch 22/200\n",
            "70/70 [==============================] - 0s 1ms/step - loss: 1.3466e-05 - accuracy: 1.0000 - val_loss: 1.7638e-05 - val_accuracy: 1.0000\n",
            "Epoch 23/200\n",
            "70/70 [==============================] - 0s 1ms/step - loss: 1.0955e-05 - accuracy: 1.0000 - val_loss: 1.5564e-05 - val_accuracy: 1.0000\n",
            "Epoch 24/200\n",
            "70/70 [==============================] - 0s 1ms/step - loss: 1.0011e-05 - accuracy: 1.0000 - val_loss: 6.8578e-06 - val_accuracy: 1.0000\n",
            "Epoch 25/200\n",
            "70/70 [==============================] - 0s 1ms/step - loss: 4.2021e-06 - accuracy: 1.0000 - val_loss: 7.2469e-06 - val_accuracy: 1.0000\n",
            "Epoch 26/200\n",
            "70/70 [==============================] - 0s 2ms/step - loss: 4.7016e-06 - accuracy: 1.0000 - val_loss: 4.4793e-06 - val_accuracy: 1.0000\n",
            "Epoch 27/200\n",
            "70/70 [==============================] - 0s 1ms/step - loss: 2.6270e-06 - accuracy: 1.0000 - val_loss: 2.7657e-06 - val_accuracy: 1.0000\n",
            "Epoch 28/200\n",
            "70/70 [==============================] - 0s 1ms/step - loss: 2.3686e-06 - accuracy: 1.0000 - val_loss: 1.7546e-06 - val_accuracy: 1.0000\n",
            "Epoch 29/200\n",
            "70/70 [==============================] - 0s 1ms/step - loss: 2.1131e-06 - accuracy: 1.0000 - val_loss: 1.5029e-06 - val_accuracy: 1.0000\n",
            "Epoch 30/200\n",
            "70/70 [==============================] - 0s 1ms/step - loss: 1.6400e-06 - accuracy: 1.0000 - val_loss: 1.3207e-06 - val_accuracy: 1.0000\n",
            "Epoch 31/200\n",
            "70/70 [==============================] - 0s 1ms/step - loss: 1.0642e-06 - accuracy: 1.0000 - val_loss: 7.1325e-07 - val_accuracy: 1.0000\n",
            "Epoch 32/200\n",
            "70/70 [==============================] - 0s 1ms/step - loss: 6.2221e-07 - accuracy: 1.0000 - val_loss: 5.8269e-07 - val_accuracy: 1.0000\n",
            "Epoch 33/200\n",
            "70/70 [==============================] - 0s 1ms/step - loss: 7.5849e-07 - accuracy: 1.0000 - val_loss: 4.8777e-07 - val_accuracy: 1.0000\n",
            "Epoch 34/200\n",
            "70/70 [==============================] - 0s 1ms/step - loss: 3.6292e-07 - accuracy: 1.0000 - val_loss: 3.6354e-07 - val_accuracy: 1.0000\n",
            "Epoch 35/200\n",
            "70/70 [==============================] - 0s 1ms/step - loss: 3.0166e-07 - accuracy: 1.0000 - val_loss: 3.5044e-07 - val_accuracy: 1.0000\n",
            "Epoch 36/200\n",
            "70/70 [==============================] - 0s 1ms/step - loss: 2.4732e-06 - accuracy: 1.0000 - val_loss: 3.9240e-07 - val_accuracy: 1.0000\n",
            "Epoch 37/200\n",
            "70/70 [==============================] - 0s 1ms/step - loss: 1.8174e-07 - accuracy: 1.0000 - val_loss: 1.2860e-07 - val_accuracy: 1.0000\n",
            "Epoch 38/200\n",
            "70/70 [==============================] - 0s 1ms/step - loss: 1.0421e-07 - accuracy: 1.0000 - val_loss: 1.4256e-07 - val_accuracy: 1.0000\n",
            "Epoch 39/200\n",
            "70/70 [==============================] - 0s 1ms/step - loss: 1.1222e-07 - accuracy: 1.0000 - val_loss: 1.8082e-07 - val_accuracy: 1.0000\n",
            "Epoch 40/200\n",
            "70/70 [==============================] - 0s 1ms/step - loss: 9.6952e-08 - accuracy: 1.0000 - val_loss: 7.3534e-08 - val_accuracy: 1.0000\n",
            "Epoch 41/200\n",
            "70/70 [==============================] - 0s 1ms/step - loss: 5.8081e-08 - accuracy: 1.0000 - val_loss: 1.0490e-07 - val_accuracy: 1.0000\n",
            "Epoch 42/200\n",
            "70/70 [==============================] - 0s 1ms/step - loss: 2.2364e-07 - accuracy: 1.0000 - val_loss: 4.5217e-08 - val_accuracy: 1.0000\n",
            "Epoch 43/200\n",
            "70/70 [==============================] - 0s 1ms/step - loss: 3.6157e-08 - accuracy: 1.0000 - val_loss: 3.5073e-08 - val_accuracy: 1.0000\n",
            "Epoch 44/200\n",
            "70/70 [==============================] - 0s 1ms/step - loss: 1.7179e-07 - accuracy: 1.0000 - val_loss: 2.5263e-08 - val_accuracy: 1.0000\n",
            "Epoch 45/200\n",
            "70/70 [==============================] - 0s 1ms/step - loss: 9.6259e-08 - accuracy: 1.0000 - val_loss: 2.8560e-08 - val_accuracy: 1.0000\n",
            "Epoch 46/200\n",
            "70/70 [==============================] - 0s 1ms/step - loss: 1.5196e-08 - accuracy: 1.0000 - val_loss: 7.7723e-08 - val_accuracy: 1.0000\n",
            "Epoch 47/200\n",
            "70/70 [==============================] - 0s 1ms/step - loss: 1.2760e-08 - accuracy: 1.0000 - val_loss: 6.4206e-08 - val_accuracy: 1.0000\n",
            "Epoch 48/200\n",
            "70/70 [==============================] - 0s 1ms/step - loss: 9.7901e-09 - accuracy: 1.0000 - val_loss: 2.4104e-08 - val_accuracy: 1.0000\n",
            "Epoch 49/200\n",
            "70/70 [==============================] - 0s 1ms/step - loss: 7.2807e-09 - accuracy: 1.0000 - val_loss: 1.6214e-08 - val_accuracy: 1.0000\n",
            "Epoch 50/200\n",
            "70/70 [==============================] - 0s 1ms/step - loss: 1.2298e-08 - accuracy: 1.0000 - val_loss: 2.5335e-08 - val_accuracy: 1.0000\n",
            "Epoch 51/200\n",
            "70/70 [==============================] - 0s 2ms/step - loss: 4.7835e-09 - accuracy: 1.0000 - val_loss: 4.0545e-08 - val_accuracy: 1.0000\n",
            "Epoch 52/200\n",
            "70/70 [==============================] - 0s 1ms/step - loss: 4.2397e-09 - accuracy: 1.0000 - val_loss: 2.5202e-08 - val_accuracy: 1.0000\n",
            "Epoch 53/200\n",
            "70/70 [==============================] - 0s 1ms/step - loss: 3.2980e-09 - accuracy: 1.0000 - val_loss: 2.3474e-08 - val_accuracy: 1.0000\n",
            "Epoch 54/200\n",
            "70/70 [==============================] - 0s 1ms/step - loss: 2.8789e-09 - accuracy: 1.0000 - val_loss: 4.4615e-08 - val_accuracy: 1.0000\n",
            "Epoch 55/200\n",
            "70/70 [==============================] - 0s 1ms/step - loss: 2.4303e-09 - accuracy: 1.0000 - val_loss: 2.6520e-08 - val_accuracy: 1.0000\n",
            "Epoch 56/200\n",
            "70/70 [==============================] - 0s 1ms/step - loss: 2.4146e-09 - accuracy: 1.0000 - val_loss: 1.3412e-08 - val_accuracy: 1.0000\n",
            "Epoch 57/200\n",
            "70/70 [==============================] - 0s 1ms/step - loss: 1.9856e-09 - accuracy: 1.0000 - val_loss: 2.3304e-08 - val_accuracy: 1.0000\n",
            "Epoch 58/200\n",
            "70/70 [==============================] - 0s 1ms/step - loss: 1.7762e-09 - accuracy: 1.0000 - val_loss: 2.5179e-08 - val_accuracy: 1.0000\n",
            "Epoch 59/200\n",
            "70/70 [==============================] - 0s 1ms/step - loss: 1.6303e-09 - accuracy: 1.0000 - val_loss: 3.5698e-08 - val_accuracy: 1.0000\n",
            "Epoch 60/200\n",
            "70/70 [==============================] - 0s 1ms/step - loss: 1.5079e-09 - accuracy: 1.0000 - val_loss: 1.9783e-08 - val_accuracy: 1.0000\n",
            "Epoch 61/200\n",
            "70/70 [==============================] - 0s 1ms/step - loss: 1.5645e-09 - accuracy: 1.0000 - val_loss: 2.7943e-08 - val_accuracy: 1.0000\n",
            "Epoch 62/200\n",
            "70/70 [==============================] - 0s 1ms/step - loss: 1.3906e-09 - accuracy: 1.0000 - val_loss: 2.5553e-08 - val_accuracy: 1.0000\n",
            "Epoch 63/200\n",
            "70/70 [==============================] - 0s 1ms/step - loss: 1.1960e-09 - accuracy: 1.0000 - val_loss: 2.1670e-08 - val_accuracy: 1.0000\n",
            "Epoch 64/200\n",
            "70/70 [==============================] - 0s 1ms/step - loss: 1.0873e-09 - accuracy: 1.0000 - val_loss: 2.1818e-08 - val_accuracy: 1.0000\n",
            "Epoch 65/200\n",
            "70/70 [==============================] - 0s 1ms/step - loss: 1.0355e-09 - accuracy: 1.0000 - val_loss: 3.3827e-08 - val_accuracy: 1.0000\n",
            "Epoch 66/200\n",
            "70/70 [==============================] - 0s 1ms/step - loss: 1.3262e-09 - accuracy: 1.0000 - val_loss: 4.8126e-08 - val_accuracy: 1.0000\n",
            "Epoch 67/200\n",
            "70/70 [==============================] - 0s 1ms/step - loss: 1.0775e-09 - accuracy: 1.0000 - val_loss: 3.6634e-08 - val_accuracy: 1.0000\n",
            "Epoch 68/200\n",
            "70/70 [==============================] - 0s 1ms/step - loss: 9.0276e-10 - accuracy: 1.0000 - val_loss: 2.8957e-08 - val_accuracy: 1.0000\n",
            "Epoch 69/200\n",
            "70/70 [==============================] - 0s 1ms/step - loss: 8.7441e-10 - accuracy: 1.0000 - val_loss: 3.5712e-08 - val_accuracy: 1.0000\n",
            "Epoch 70/200\n",
            "70/70 [==============================] - 0s 1ms/step - loss: 8.8656e-10 - accuracy: 1.0000 - val_loss: 3.9062e-08 - val_accuracy: 1.0000\n",
            "Epoch 71/200\n",
            "70/70 [==============================] - 0s 2ms/step - loss: 8.2490e-10 - accuracy: 1.0000 - val_loss: 4.6710e-08 - val_accuracy: 1.0000\n",
            "Epoch 72/200\n",
            "70/70 [==============================] - 0s 1ms/step - loss: 7.6721e-10 - accuracy: 1.0000 - val_loss: 5.7680e-08 - val_accuracy: 1.0000\n",
            "Epoch 73/200\n",
            "70/70 [==============================] - 0s 1ms/step - loss: 7.5251e-10 - accuracy: 1.0000 - val_loss: 4.5279e-08 - val_accuracy: 1.0000\n",
            "Epoch 74/200\n",
            "70/70 [==============================] - 0s 1ms/step - loss: 7.7449e-10 - accuracy: 1.0000 - val_loss: 2.5112e-08 - val_accuracy: 1.0000\n",
            "Epoch 75/200\n",
            "70/70 [==============================] - 0s 1ms/step - loss: 7.1760e-10 - accuracy: 1.0000 - val_loss: 3.5599e-08 - val_accuracy: 1.0000\n",
            "Epoch 76/200\n",
            "70/70 [==============================] - 0s 1ms/step - loss: 7.7201e-10 - accuracy: 1.0000 - val_loss: 4.6056e-08 - val_accuracy: 1.0000\n",
            "Epoch 77/200\n",
            "70/70 [==============================] - 0s 1ms/step - loss: 6.6867e-10 - accuracy: 1.0000 - val_loss: 4.9184e-08 - val_accuracy: 1.0000\n",
            "Epoch 78/200\n",
            "70/70 [==============================] - 0s 1ms/step - loss: 6.2737e-10 - accuracy: 1.0000 - val_loss: 5.4504e-08 - val_accuracy: 1.0000\n",
            "Epoch 79/200\n",
            "70/70 [==============================] - 0s 1ms/step - loss: 6.3786e-10 - accuracy: 1.0000 - val_loss: 3.5717e-08 - val_accuracy: 1.0000\n",
            "Epoch 80/200\n",
            "70/70 [==============================] - 0s 1ms/step - loss: 5.8916e-10 - accuracy: 1.0000 - val_loss: 4.2664e-08 - val_accuracy: 1.0000\n",
            "Epoch 81/200\n",
            "70/70 [==============================] - 0s 1ms/step - loss: 6.1956e-10 - accuracy: 1.0000 - val_loss: 4.9652e-08 - val_accuracy: 1.0000\n",
            "Epoch 82/200\n",
            "70/70 [==============================] - 0s 1ms/step - loss: 6.6290e-10 - accuracy: 1.0000 - val_loss: 2.3207e-08 - val_accuracy: 1.0000\n",
            "Epoch 83/200\n",
            "70/70 [==============================] - 0s 1ms/step - loss: 6.8061e-10 - accuracy: 1.0000 - val_loss: 5.5394e-08 - val_accuracy: 1.0000\n",
            "Epoch 84/200\n",
            "70/70 [==============================] - 0s 1ms/step - loss: 5.7441e-10 - accuracy: 1.0000 - val_loss: 3.5857e-08 - val_accuracy: 1.0000\n",
            "Epoch 85/200\n",
            "70/70 [==============================] - 0s 1ms/step - loss: 4.8846e-10 - accuracy: 1.0000 - val_loss: 4.2135e-08 - val_accuracy: 1.0000\n",
            "Epoch 86/200\n",
            "70/70 [==============================] - 0s 1ms/step - loss: 5.0748e-10 - accuracy: 1.0000 - val_loss: 4.8771e-08 - val_accuracy: 1.0000\n",
            "Epoch 87/200\n",
            "70/70 [==============================] - 0s 1ms/step - loss: 5.3737e-10 - accuracy: 1.0000 - val_loss: 5.6540e-08 - val_accuracy: 1.0000\n",
            "Epoch 88/200\n",
            "70/70 [==============================] - 0s 1ms/step - loss: 5.4713e-10 - accuracy: 1.0000 - val_loss: 6.6665e-08 - val_accuracy: 1.0000\n",
            "Epoch 89/200\n",
            "70/70 [==============================] - 0s 1ms/step - loss: 5.8408e-10 - accuracy: 1.0000 - val_loss: 5.3542e-08 - val_accuracy: 1.0000\n",
            "Epoch 90/200\n",
            "70/70 [==============================] - 0s 1ms/step - loss: 5.4603e-10 - accuracy: 1.0000 - val_loss: 5.7572e-08 - val_accuracy: 1.0000\n",
            "Epoch 91/200\n",
            "70/70 [==============================] - 0s 1ms/step - loss: 5.2432e-10 - accuracy: 1.0000 - val_loss: 6.3255e-08 - val_accuracy: 1.0000\n",
            "Epoch 92/200\n",
            "70/70 [==============================] - 0s 1ms/step - loss: 5.1483e-10 - accuracy: 1.0000 - val_loss: 4.1758e-08 - val_accuracy: 1.0000\n",
            "Epoch 93/200\n",
            "70/70 [==============================] - 0s 1ms/step - loss: 4.4806e-10 - accuracy: 1.0000 - val_loss: 4.8862e-08 - val_accuracy: 1.0000\n",
            "Epoch 94/200\n",
            "70/70 [==============================] - 0s 1ms/step - loss: 4.7995e-10 - accuracy: 1.0000 - val_loss: 5.6464e-08 - val_accuracy: 1.0000\n",
            "Epoch 95/200\n",
            "70/70 [==============================] - 0s 1ms/step - loss: 5.0323e-10 - accuracy: 1.0000 - val_loss: 6.5733e-08 - val_accuracy: 1.0000\n",
            "Epoch 96/200\n",
            "70/70 [==============================] - 0s 1ms/step - loss: 4.9045e-10 - accuracy: 1.0000 - val_loss: 3.0273e-08 - val_accuracy: 1.0000\n",
            "Epoch 97/200\n",
            "70/70 [==============================] - 0s 1ms/step - loss: 4.4034e-10 - accuracy: 1.0000 - val_loss: 3.5468e-08 - val_accuracy: 1.0000\n",
            "Epoch 98/200\n",
            "70/70 [==============================] - 0s 1ms/step - loss: 4.4265e-10 - accuracy: 1.0000 - val_loss: 4.1379e-08 - val_accuracy: 1.0000\n",
            "Epoch 99/200\n",
            "70/70 [==============================] - 0s 1ms/step - loss: 4.5549e-10 - accuracy: 1.0000 - val_loss: 4.9819e-08 - val_accuracy: 1.0000\n",
            "Epoch 100/200\n",
            "70/70 [==============================] - 0s 1ms/step - loss: 5.5957e-10 - accuracy: 1.0000 - val_loss: 4.4220e-08 - val_accuracy: 1.0000\n",
            "Epoch 101/200\n",
            "70/70 [==============================] - 0s 1ms/step - loss: 4.2745e-10 - accuracy: 1.0000 - val_loss: 4.7991e-08 - val_accuracy: 1.0000\n",
            "Epoch 102/200\n",
            "70/70 [==============================] - 0s 1ms/step - loss: 4.2472e-10 - accuracy: 1.0000 - val_loss: 5.1932e-08 - val_accuracy: 1.0000\n",
            "Epoch 103/200\n",
            "70/70 [==============================] - 0s 1ms/step - loss: 4.2363e-10 - accuracy: 1.0000 - val_loss: 5.9527e-08 - val_accuracy: 1.0000\n",
            "Epoch 104/200\n",
            "70/70 [==============================] - 0s 1ms/step - loss: 4.5394e-10 - accuracy: 1.0000 - val_loss: 3.6282e-08 - val_accuracy: 1.0000\n",
            "Epoch 105/200\n",
            "70/70 [==============================] - 0s 1ms/step - loss: 3.9902e-10 - accuracy: 1.0000 - val_loss: 4.2457e-08 - val_accuracy: 1.0000\n",
            "Epoch 106/200\n",
            "70/70 [==============================] - 0s 2ms/step - loss: 3.9609e-10 - accuracy: 1.0000 - val_loss: 4.9458e-08 - val_accuracy: 1.0000\n",
            "Epoch 107/200\n",
            "70/70 [==============================] - 0s 1ms/step - loss: 4.2982e-10 - accuracy: 1.0000 - val_loss: 5.5893e-08 - val_accuracy: 1.0000\n",
            "Epoch 108/200\n",
            "70/70 [==============================] - 0s 1ms/step - loss: 4.5682e-10 - accuracy: 1.0000 - val_loss: 3.1775e-08 - val_accuracy: 1.0000\n",
            "Epoch 109/200\n",
            "70/70 [==============================] - 0s 1ms/step - loss: 3.5990e-10 - accuracy: 1.0000 - val_loss: 3.7061e-08 - val_accuracy: 1.0000\n",
            "Epoch 110/200\n",
            "70/70 [==============================] - 0s 1ms/step - loss: 3.7591e-10 - accuracy: 1.0000 - val_loss: 4.4243e-08 - val_accuracy: 1.0000\n",
            "Epoch 111/200\n",
            "70/70 [==============================] - 0s 1ms/step - loss: 3.9901e-10 - accuracy: 1.0000 - val_loss: 5.1726e-08 - val_accuracy: 1.0000\n",
            "Epoch 112/200\n",
            "70/70 [==============================] - 0s 1ms/step - loss: 3.9637e-10 - accuracy: 1.0000 - val_loss: 6.0056e-08 - val_accuracy: 1.0000\n",
            "Epoch 113/200\n",
            "70/70 [==============================] - 0s 1ms/step - loss: 3.9733e-10 - accuracy: 1.0000 - val_loss: 3.9587e-08 - val_accuracy: 1.0000\n",
            "Epoch 114/200\n",
            "70/70 [==============================] - 0s 2ms/step - loss: 4.6452e-10 - accuracy: 1.0000 - val_loss: 8.1867e-08 - val_accuracy: 1.0000\n",
            "Epoch 115/200\n",
            "70/70 [==============================] - 0s 1ms/step - loss: 4.0163e-10 - accuracy: 1.0000 - val_loss: 5.3664e-08 - val_accuracy: 1.0000\n",
            "Epoch 116/200\n",
            "70/70 [==============================] - 0s 1ms/step - loss: 3.7418e-10 - accuracy: 1.0000 - val_loss: 6.0156e-08 - val_accuracy: 1.0000\n",
            "Epoch 117/200\n",
            "70/70 [==============================] - 0s 1ms/step - loss: 3.9725e-10 - accuracy: 1.0000 - val_loss: 2.5966e-08 - val_accuracy: 1.0000\n",
            "Epoch 118/200\n",
            "70/70 [==============================] - 0s 1ms/step - loss: 2.8648e-10 - accuracy: 1.0000 - val_loss: 3.0325e-08 - val_accuracy: 1.0000\n",
            "Epoch 119/200\n",
            "70/70 [==============================] - 0s 1ms/step - loss: 2.8472e-10 - accuracy: 1.0000 - val_loss: 3.5539e-08 - val_accuracy: 1.0000\n",
            "Epoch 120/200\n",
            "70/70 [==============================] - 0s 2ms/step - loss: 2.9609e-10 - accuracy: 1.0000 - val_loss: 4.1052e-08 - val_accuracy: 1.0000\n",
            "Epoch 121/200\n",
            "70/70 [==============================] - 0s 1ms/step - loss: 3.2007e-10 - accuracy: 1.0000 - val_loss: 4.6880e-08 - val_accuracy: 1.0000\n",
            "Epoch 122/200\n",
            "70/70 [==============================] - 0s 1ms/step - loss: 3.3132e-10 - accuracy: 1.0000 - val_loss: 5.1708e-08 - val_accuracy: 1.0000\n",
            "Epoch 123/200\n",
            "70/70 [==============================] - 0s 1ms/step - loss: 3.4298e-10 - accuracy: 1.0000 - val_loss: 5.6810e-08 - val_accuracy: 1.0000\n",
            "Epoch 124/200\n",
            "70/70 [==============================] - 0s 1ms/step - loss: 3.3346e-10 - accuracy: 1.0000 - val_loss: 6.4640e-08 - val_accuracy: 1.0000\n",
            "Epoch 125/200\n",
            "70/70 [==============================] - 0s 1ms/step - loss: 3.4258e-10 - accuracy: 1.0000 - val_loss: 2.6532e-08 - val_accuracy: 1.0000\n",
            "Epoch 126/200\n",
            "70/70 [==============================] - 0s 1ms/step - loss: 2.8765e-10 - accuracy: 1.0000 - val_loss: 3.1132e-08 - val_accuracy: 1.0000\n",
            "Epoch 127/200\n",
            "70/70 [==============================] - 0s 1ms/step - loss: 3.0141e-10 - accuracy: 1.0000 - val_loss: 3.6301e-08 - val_accuracy: 1.0000\n",
            "Epoch 128/200\n",
            "70/70 [==============================] - 0s 1ms/step - loss: 3.0661e-10 - accuracy: 1.0000 - val_loss: 4.2337e-08 - val_accuracy: 1.0000\n",
            "Epoch 129/200\n",
            "70/70 [==============================] - 0s 2ms/step - loss: 3.2520e-10 - accuracy: 1.0000 - val_loss: 4.7674e-08 - val_accuracy: 1.0000\n",
            "Epoch 130/200\n",
            "70/70 [==============================] - 0s 1ms/step - loss: 3.3157e-10 - accuracy: 1.0000 - val_loss: 5.5396e-08 - val_accuracy: 1.0000\n",
            "Epoch 131/200\n",
            "70/70 [==============================] - 0s 1ms/step - loss: 3.4132e-10 - accuracy: 1.0000 - val_loss: 6.2478e-08 - val_accuracy: 1.0000\n",
            "Epoch 132/200\n",
            "70/70 [==============================] - 0s 1ms/step - loss: 3.6538e-10 - accuracy: 1.0000 - val_loss: 6.1877e-08 - val_accuracy: 1.0000\n",
            "Epoch 133/200\n",
            "70/70 [==============================] - 0s 1ms/step - loss: 3.6886e-10 - accuracy: 1.0000 - val_loss: 6.9335e-08 - val_accuracy: 1.0000\n",
            "Epoch 134/200\n",
            "70/70 [==============================] - 0s 1ms/step - loss: 3.4953e-10 - accuracy: 1.0000 - val_loss: 3.1532e-08 - val_accuracy: 1.0000\n",
            "Epoch 135/200\n",
            "70/70 [==============================] - 0s 1ms/step - loss: 2.7929e-10 - accuracy: 1.0000 - val_loss: 3.7229e-08 - val_accuracy: 1.0000\n",
            "Epoch 136/200\n",
            "70/70 [==============================] - 0s 1ms/step - loss: 2.9262e-10 - accuracy: 1.0000 - val_loss: 4.3333e-08 - val_accuracy: 1.0000\n",
            "Epoch 137/200\n",
            "70/70 [==============================] - 0s 1ms/step - loss: 2.8855e-10 - accuracy: 1.0000 - val_loss: 4.3743e-08 - val_accuracy: 1.0000\n",
            "Epoch 138/200\n",
            "70/70 [==============================] - 0s 1ms/step - loss: 3.0908e-10 - accuracy: 1.0000 - val_loss: 4.9664e-08 - val_accuracy: 1.0000\n",
            "Epoch 139/200\n",
            "70/70 [==============================] - 0s 1ms/step - loss: 3.1197e-10 - accuracy: 1.0000 - val_loss: 4.9750e-08 - val_accuracy: 1.0000\n",
            "Epoch 140/200\n",
            "70/70 [==============================] - 0s 1ms/step - loss: 3.1883e-10 - accuracy: 1.0000 - val_loss: 5.0229e-08 - val_accuracy: 1.0000\n",
            "Epoch 141/200\n",
            "70/70 [==============================] - 0s 1ms/step - loss: 3.8001e-10 - accuracy: 1.0000 - val_loss: 8.0214e-08 - val_accuracy: 1.0000\n",
            "Epoch 142/200\n",
            "70/70 [==============================] - 0s 1ms/step - loss: 3.7885e-10 - accuracy: 1.0000 - val_loss: 5.0829e-08 - val_accuracy: 1.0000\n",
            "Epoch 143/200\n",
            "70/70 [==============================] - 0s 1ms/step - loss: 2.8393e-10 - accuracy: 1.0000 - val_loss: 5.0676e-08 - val_accuracy: 1.0000\n",
            "Epoch 144/200\n",
            "70/70 [==============================] - 0s 1ms/step - loss: 2.8188e-10 - accuracy: 1.0000 - val_loss: 5.0805e-08 - val_accuracy: 1.0000\n",
            "Epoch 145/200\n",
            "70/70 [==============================] - 0s 1ms/step - loss: 2.7358e-10 - accuracy: 1.0000 - val_loss: 5.0244e-08 - val_accuracy: 1.0000\n",
            "Epoch 146/200\n",
            "70/70 [==============================] - 0s 1ms/step - loss: 2.8130e-10 - accuracy: 1.0000 - val_loss: 5.7692e-08 - val_accuracy: 1.0000\n",
            "Epoch 147/200\n",
            "70/70 [==============================] - 0s 1ms/step - loss: 2.9463e-10 - accuracy: 1.0000 - val_loss: 5.6994e-08 - val_accuracy: 1.0000\n",
            "Epoch 148/200\n",
            "70/70 [==============================] - 0s 1ms/step - loss: 3.2478e-10 - accuracy: 1.0000 - val_loss: 6.6232e-08 - val_accuracy: 1.0000\n",
            "Epoch 149/200\n",
            "70/70 [==============================] - 0s 1ms/step - loss: 3.1461e-10 - accuracy: 1.0000 - val_loss: 6.5764e-08 - val_accuracy: 1.0000\n",
            "Epoch 150/200\n",
            "70/70 [==============================] - 0s 1ms/step - loss: 3.1802e-10 - accuracy: 1.0000 - val_loss: 6.5341e-08 - val_accuracy: 1.0000\n",
            "Epoch 151/200\n",
            "70/70 [==============================] - 0s 1ms/step - loss: 3.4932e-10 - accuracy: 1.0000 - val_loss: 7.5753e-08 - val_accuracy: 1.0000\n",
            "Epoch 152/200\n",
            "70/70 [==============================] - 0s 1ms/step - loss: 3.5196e-10 - accuracy: 1.0000 - val_loss: 7.5314e-08 - val_accuracy: 1.0000\n",
            "Epoch 153/200\n",
            "70/70 [==============================] - 0s 1ms/step - loss: 3.5187e-10 - accuracy: 1.0000 - val_loss: 7.5021e-08 - val_accuracy: 1.0000\n",
            "Epoch 154/200\n",
            "70/70 [==============================] - 0s 1ms/step - loss: 3.5659e-10 - accuracy: 1.0000 - val_loss: 7.4878e-08 - val_accuracy: 1.0000\n",
            "Epoch 155/200\n",
            "70/70 [==============================] - 0s 1ms/step - loss: 4.0380e-10 - accuracy: 1.0000 - val_loss: 4.1932e-08 - val_accuracy: 1.0000\n",
            "Epoch 156/200\n",
            "70/70 [==============================] - 0s 1ms/step - loss: 3.1630e-10 - accuracy: 1.0000 - val_loss: 7.2608e-08 - val_accuracy: 1.0000\n",
            "Epoch 157/200\n",
            "70/70 [==============================] - 0s 1ms/step - loss: 3.0955e-10 - accuracy: 1.0000 - val_loss: 7.1278e-08 - val_accuracy: 1.0000\n",
            "Epoch 158/200\n",
            "70/70 [==============================] - 0s 1ms/step - loss: 3.0364e-10 - accuracy: 1.0000 - val_loss: 6.9968e-08 - val_accuracy: 1.0000\n",
            "Epoch 159/200\n",
            "70/70 [==============================] - 0s 2ms/step - loss: 2.9382e-10 - accuracy: 1.0000 - val_loss: 6.8899e-08 - val_accuracy: 1.0000\n",
            "Epoch 160/200\n",
            "70/70 [==============================] - 0s 2ms/step - loss: 2.8770e-10 - accuracy: 1.0000 - val_loss: 6.8261e-08 - val_accuracy: 1.0000\n",
            "Epoch 161/200\n",
            "70/70 [==============================] - 0s 2ms/step - loss: 2.8596e-10 - accuracy: 1.0000 - val_loss: 6.7876e-08 - val_accuracy: 1.0000\n",
            "Epoch 162/200\n",
            "70/70 [==============================] - 0s 2ms/step - loss: 2.8203e-10 - accuracy: 1.0000 - val_loss: 6.7679e-08 - val_accuracy: 1.0000\n",
            "Epoch 163/200\n",
            "70/70 [==============================] - 0s 1ms/step - loss: 2.8738e-10 - accuracy: 1.0000 - val_loss: 7.6739e-08 - val_accuracy: 1.0000\n",
            "Epoch 164/200\n",
            "70/70 [==============================] - 0s 1ms/step - loss: 3.0523e-10 - accuracy: 1.0000 - val_loss: 4.5811e-08 - val_accuracy: 1.0000\n",
            "Epoch 165/200\n",
            "70/70 [==============================] - 0s 1ms/step - loss: 2.4531e-10 - accuracy: 1.0000 - val_loss: 5.3534e-08 - val_accuracy: 1.0000\n",
            "Epoch 166/200\n",
            "70/70 [==============================] - 0s 1ms/step - loss: 2.5016e-10 - accuracy: 1.0000 - val_loss: 5.3613e-08 - val_accuracy: 1.0000\n",
            "Epoch 167/200\n",
            "70/70 [==============================] - 0s 1ms/step - loss: 2.5312e-10 - accuracy: 1.0000 - val_loss: 5.3449e-08 - val_accuracy: 1.0000\n",
            "Epoch 168/200\n",
            "70/70 [==============================] - 0s 1ms/step - loss: 2.7796e-10 - accuracy: 1.0000 - val_loss: 6.2561e-08 - val_accuracy: 1.0000\n",
            "Epoch 169/200\n",
            "70/70 [==============================] - 0s 1ms/step - loss: 2.7530e-10 - accuracy: 1.0000 - val_loss: 6.2760e-08 - val_accuracy: 1.0000\n",
            "Epoch 170/200\n",
            "70/70 [==============================] - 0s 2ms/step - loss: 2.7847e-10 - accuracy: 1.0000 - val_loss: 6.2505e-08 - val_accuracy: 1.0000\n",
            "Epoch 171/200\n",
            "70/70 [==============================] - 0s 1ms/step - loss: 3.0313e-10 - accuracy: 1.0000 - val_loss: 7.2807e-08 - val_accuracy: 1.0000\n",
            "Epoch 172/200\n",
            "70/70 [==============================] - 0s 1ms/step - loss: 3.0666e-10 - accuracy: 1.0000 - val_loss: 7.3115e-08 - val_accuracy: 1.0000\n",
            "Epoch 173/200\n",
            "70/70 [==============================] - 0s 1ms/step - loss: 3.1276e-10 - accuracy: 1.0000 - val_loss: 7.2902e-08 - val_accuracy: 1.0000\n",
            "Epoch 174/200\n",
            "70/70 [==============================] - 0s 1ms/step - loss: 3.1696e-10 - accuracy: 1.0000 - val_loss: 7.2769e-08 - val_accuracy: 1.0000\n",
            "Epoch 175/200\n",
            "70/70 [==============================] - 0s 1ms/step - loss: 3.2596e-10 - accuracy: 1.0000 - val_loss: 8.2681e-08 - val_accuracy: 1.0000\n",
            "Epoch 176/200\n",
            "70/70 [==============================] - 0s 1ms/step - loss: 3.4749e-10 - accuracy: 1.0000 - val_loss: 5.1897e-08 - val_accuracy: 1.0000\n",
            "Epoch 177/200\n",
            "70/70 [==============================] - 0s 1ms/step - loss: 2.3837e-10 - accuracy: 1.0000 - val_loss: 5.1174e-08 - val_accuracy: 1.0000\n",
            "Epoch 178/200\n",
            "70/70 [==============================] - 0s 1ms/step - loss: 2.3486e-10 - accuracy: 1.0000 - val_loss: 5.0335e-08 - val_accuracy: 1.0000\n",
            "Epoch 179/200\n",
            "70/70 [==============================] - 0s 1ms/step - loss: 2.2738e-10 - accuracy: 1.0000 - val_loss: 4.9601e-08 - val_accuracy: 1.0000\n",
            "Epoch 180/200\n",
            "70/70 [==============================] - 0s 1ms/step - loss: 2.2401e-10 - accuracy: 1.0000 - val_loss: 4.9091e-08 - val_accuracy: 1.0000\n",
            "Epoch 181/200\n",
            "70/70 [==============================] - 0s 1ms/step - loss: 2.2280e-10 - accuracy: 1.0000 - val_loss: 4.8743e-08 - val_accuracy: 1.0000\n",
            "Epoch 182/200\n",
            "70/70 [==============================] - 0s 1ms/step - loss: 2.2016e-10 - accuracy: 1.0000 - val_loss: 4.8506e-08 - val_accuracy: 1.0000\n",
            "Epoch 183/200\n",
            "70/70 [==============================] - 0s 1ms/step - loss: 2.2470e-10 - accuracy: 1.0000 - val_loss: 5.4912e-08 - val_accuracy: 1.0000\n",
            "Epoch 184/200\n",
            "70/70 [==============================] - 0s 1ms/step - loss: 2.3227e-10 - accuracy: 1.0000 - val_loss: 5.4693e-08 - val_accuracy: 1.0000\n",
            "Epoch 185/200\n",
            "70/70 [==============================] - 0s 1ms/step - loss: 2.2958e-10 - accuracy: 1.0000 - val_loss: 5.4574e-08 - val_accuracy: 1.0000\n",
            "Epoch 186/200\n",
            "70/70 [==============================] - 0s 1ms/step - loss: 2.2919e-10 - accuracy: 1.0000 - val_loss: 5.4538e-08 - val_accuracy: 1.0000\n",
            "Epoch 187/200\n",
            "70/70 [==============================] - 0s 1ms/step - loss: 2.4198e-10 - accuracy: 1.0000 - val_loss: 6.1860e-08 - val_accuracy: 1.0000\n",
            "Epoch 188/200\n",
            "70/70 [==============================] - 0s 2ms/step - loss: 2.4160e-10 - accuracy: 1.0000 - val_loss: 6.1809e-08 - val_accuracy: 1.0000\n",
            "Epoch 189/200\n",
            "70/70 [==============================] - 0s 1ms/step - loss: 2.4308e-10 - accuracy: 1.0000 - val_loss: 6.1835e-08 - val_accuracy: 1.0000\n",
            "Epoch 190/200\n",
            "70/70 [==============================] - 0s 1ms/step - loss: 2.4520e-10 - accuracy: 1.0000 - val_loss: 6.1926e-08 - val_accuracy: 1.0000\n",
            "Epoch 191/200\n",
            "70/70 [==============================] - 0s 1ms/step - loss: 2.5260e-10 - accuracy: 1.0000 - val_loss: 7.0585e-08 - val_accuracy: 1.0000\n",
            "Epoch 192/200\n",
            "70/70 [==============================] - 0s 1ms/step - loss: 2.6196e-10 - accuracy: 1.0000 - val_loss: 7.0662e-08 - val_accuracy: 1.0000\n",
            "Epoch 193/200\n",
            "70/70 [==============================] - 0s 1ms/step - loss: 2.6351e-10 - accuracy: 1.0000 - val_loss: 7.0785e-08 - val_accuracy: 1.0000\n",
            "Epoch 194/200\n",
            "70/70 [==============================] - 0s 1ms/step - loss: 2.6719e-10 - accuracy: 1.0000 - val_loss: 7.0975e-08 - val_accuracy: 1.0000\n",
            "Epoch 195/200\n",
            "70/70 [==============================] - 0s 1ms/step - loss: 2.6854e-10 - accuracy: 1.0000 - val_loss: 7.1196e-08 - val_accuracy: 1.0000\n",
            "Epoch 196/200\n",
            "70/70 [==============================] - 0s 1ms/step - loss: 2.8097e-10 - accuracy: 1.0000 - val_loss: 8.1150e-08 - val_accuracy: 1.0000\n",
            "Epoch 197/200\n",
            "70/70 [==============================] - 0s 1ms/step - loss: 2.9261e-10 - accuracy: 1.0000 - val_loss: 8.1543e-08 - val_accuracy: 1.0000\n",
            "Epoch 198/200\n",
            "70/70 [==============================] - 0s 1ms/step - loss: 2.9403e-10 - accuracy: 1.0000 - val_loss: 8.1792e-08 - val_accuracy: 1.0000\n",
            "Epoch 199/200\n",
            "70/70 [==============================] - 0s 1ms/step - loss: 3.0160e-10 - accuracy: 1.0000 - val_loss: 8.2094e-08 - val_accuracy: 1.0000\n",
            "Epoch 200/200\n",
            "70/70 [==============================] - 0s 1ms/step - loss: 3.0138e-10 - accuracy: 1.0000 - val_loss: 8.2423e-08 - val_accuracy: 1.0000\n"
          ],
          "name": "stdout"
        }
      ]
    },
    {
      "cell_type": "markdown",
      "metadata": {
        "id": "Ae7bX8yewgsp",
        "colab_type": "text"
      },
      "source": [
        "### Hyperparameter tunning using GridSearCV"
      ]
    },
    {
      "cell_type": "code",
      "metadata": {
        "id": "Dc-Qc0bhsP3T",
        "colab_type": "code",
        "colab": {
          "base_uri": "https://localhost:8080/",
          "height": 51
        },
        "outputId": "4770f1db-623e-4388-a0ee-8aa5c9655517"
      },
      "source": [
        "# ----------------------------- Functional Tuning: using Sklearn  ------------------------------\n",
        "# Goal: To tune the batch size and epochs\n",
        "\n",
        "# Import KerasRegressor class\n",
        "#from keras.wrappers.scikit_learn import KerasRegressor\n",
        "\n",
        "#Import GridSearchCV\n",
        "#from sklearn.model_selection import GridSearchCV\n",
        "\n",
        "# Define the model trhough a user-defined function\n",
        "#def create_model(optimizer=RMSprop(0.01)):\n",
        "  #model = Sequential()\n",
        "  #model.add(Dense(6, activation='relu', input_shape=(X_train.shape[1],)))\n",
        "  #model.add(Dense(1, activation = 'sigmoid'))\n",
        "  #model.compile(loss='binary_crossentropy', metrics=['accuracy'], optimizer=optimizer)    # compile the model\n",
        "  #return model\n",
        "#model = KerasRegressor(build_fn=create_model, verbose=1)\n",
        "\n",
        "# Define the hyperparameters grid to be validated\n",
        "#batch_size = [10, 20, 30, 40, 60, 80, 100, 200]\n",
        "#epochs = [10, 20, 30, 40, 50, 100]\n",
        "#param_grid = dict(batch_size=batch_size, nb_epoch=epochs)\n",
        "#model = KerasRegressor(build_fn=create_model, verbose=1)\n",
        "#grid = GridSearchCV(estimator=model, param_grid=param_grid, cv=5, n_jobs=-1)\n",
        "\n",
        "# Run the GridSearchCV process\n",
        "#grid_result = grid.fit(X_train, y_train, verbose = 1)\n",
        "\n",
        "# Print the results of the best model\n",
        "#print('Best params: ' + str(grid_result.best_params_))"
      ],
      "execution_count": 96,
      "outputs": [
        {
          "output_type": "stream",
          "text": [
            "88/88 [==============================] - 0s 1ms/step - loss: 0.4509 - accuracy: 0.8208\n",
            "Best params: {'batch_size': 10, 'nb_epoch': 40}\n"
          ],
          "name": "stdout"
        }
      ]
    },
    {
      "cell_type": "code",
      "metadata": {
        "id": "DFXl3dDkw2Z9",
        "colab_type": "code",
        "colab": {}
      },
      "source": [
        "#history = model.fit(X_train, y_train, validation_split = 0.2, epochs = 40, batch_size = 10, verbose = 1)"
      ],
      "execution_count": 101,
      "outputs": []
    },
    {
      "cell_type": "markdown",
      "metadata": {
        "id": "UEHdin9BQDQm",
        "colab_type": "text"
      },
      "source": [
        "#### Model evaluation"
      ]
    },
    {
      "cell_type": "code",
      "metadata": {
        "id": "4QMu0_4iP1p_",
        "colab_type": "code",
        "colab": {
          "base_uri": "https://localhost:8080/",
          "height": 51
        },
        "outputId": "c23f8fad-bec9-496e-9d14-656304a04caa"
      },
      "source": [
        "model.evaluate(X_test, y_test)"
      ],
      "execution_count": 110,
      "outputs": [
        {
          "output_type": "stream",
          "text": [
            "7/7 [==============================] - 0s 1ms/step - loss: 5.0464e-07 - accuracy: 1.0000\n"
          ],
          "name": "stdout"
        },
        {
          "output_type": "execute_result",
          "data": {
            "text/plain": [
              "[5.046439923717116e-07, 1.0]"
            ]
          },
          "metadata": {
            "tags": []
          },
          "execution_count": 110
        }
      ]
    },
    {
      "cell_type": "markdown",
      "metadata": {
        "id": "rH443HaFdGoK",
        "colab_type": "text"
      },
      "source": [
        "##### Model Accuracy"
      ]
    },
    {
      "cell_type": "code",
      "metadata": {
        "id": "ZQiZ64g3QSgc",
        "colab_type": "code",
        "colab": {
          "base_uri": "https://localhost:8080/",
          "height": 295
        },
        "outputId": "9043f852-cd55-4e7d-887f-9f4375c6e2b0"
      },
      "source": [
        "plt.plot(history.history['accuracy'])\n",
        "plt.plot(history.history['val_accuracy'])\n",
        "plt.title(\"Model Accuracy\")\n",
        "plt.xlabel(\"epoch\")\n",
        "plt.ylabel(\"accuracy\")\n",
        "plt.legend([\"Train\", \"Validation\"])\n",
        "plt.show()\n"
      ],
      "execution_count": 111,
      "outputs": [
        {
          "output_type": "display_data",
          "data": {
            "image/png": "[encoded data removed]",
            "text/plain": [
              "<Figure size 432x288 with 1 Axes>"
            ]
          },
          "metadata": {
            "tags": [],
            "needs_background": "light"
          }
        }
      ]
    },
    {
      "cell_type": "markdown",
      "metadata": {
        "id": "QDTeWO-5dL92",
        "colab_type": "text"
      },
      "source": [
        "##### Model Loss"
      ]
    },
    {
      "cell_type": "code",
      "metadata": {
        "id": "dhB86QuyfEgG",
        "colab_type": "code",
        "colab": {
          "base_uri": "https://localhost:8080/",
          "height": 295
        },
        "outputId": "b6ab3892-fa9a-46fa-e6c6-7da06667d40e"
      },
      "source": [
        "plt.plot(history.history['loss'])\n",
        "plt.plot(history.history['val_loss'])\n",
        "plt.title('Model Loss')\n",
        "plt.ylabel('loss')\n",
        "plt.xlabel('epoch')\n",
        "plt.legend(['Train', 'Validation'])\n",
        "plt.show()"
      ],
      "execution_count": 112,
      "outputs": [
        {
          "output_type": "display_data",
          "data": {
            "image/png": "[encoded data removed]",
            "text/plain": [
              "<Figure size 432x288 with 1 Axes>"
            ]
          },
          "metadata": {
            "tags": [],
            "needs_background": "light"
          }
        }
      ]
    },
    {
      "cell_type": "markdown",
      "metadata": {
        "id": "esZT-h5tc3Rh",
        "colab_type": "text"
      },
      "source": [
        "# Loading the Test Data\n",
        "\n"
      ]
    },
    {
      "cell_type": "code",
      "metadata": {
        "id": "aPQHomWYez2z",
        "colab_type": "code",
        "colab": {}
      },
      "source": [
        "test_data = pd.read_csv(\"https://raw.githubusercontent.com/dphi-official/Datasets/master/bank_note_data/testing_set_label.csv\")"
      ],
      "execution_count": null,
      "outputs": []
    },
    {
      "cell_type": "code",
      "metadata": {
        "id": "rxkgeK5r49K8",
        "colab_type": "code",
        "colab": {
          "base_uri": "https://localhost:8080/",
          "height": 34
        },
        "outputId": "e7af0114-d058-42a5-d5a7-c0eefda74da6"
      },
      "source": [
        "test_data.shape"
      ],
      "execution_count": null,
      "outputs": [
        {
          "output_type": "execute_result",
          "data": {
            "text/plain": [
              "(275, 4)"
            ]
          },
          "metadata": {
            "tags": []
          },
          "execution_count": 53
        }
      ]
    },
    {
      "cell_type": "markdown",
      "metadata": {
        "id": "6BWUymicdPu7",
        "colab_type": "text"
      },
      "source": [
        "# Predictions"
      ]
    },
    {
      "cell_type": "code",
      "metadata": {
        "id": "GqTP_qCn5K-k",
        "colab_type": "code",
        "colab": {}
      },
      "source": [
        "predictions = model.predict(test_data) # model.predict_classes(test_data)\n",
        "                                       # model.predict(x) > 0.5).astype(\"int32\")\n",
        "                                       # np.argmax(model.predict(x), axis=-1), if the model does multi-class classification (e.g. if it uses a `softmax` last-layer activation)\n",
        "                                       # (model.predict(x) > 0.5).astype(\"int32\"), if the model does binary classification (e.g. if it uses a `sigmoid` last-layer activation)"
      ],
      "execution_count": null,
      "outputs": []
    },
    {
      "cell_type": "code",
      "metadata": {
        "id": "S2DDf8905qKu",
        "colab_type": "code",
        "colab": {
          "base_uri": "https://localhost:8080/",
          "height": 1000
        },
        "outputId": "a30a46c0-32ef-4ce7-87b9-b283ca9f45dd"
      },
      "source": [
        "np.round(predictions) "
      ],
      "execution_count": null,
      "outputs": [
        {
          "output_type": "execute_result",
          "data": {
            "text/plain": [
              "array([[1.],\n",
              "       [1.],\n",
              "       [0.],\n",
              "       [0.],\n",
              "       [0.],\n",
              "       [1.],\n",
              "       [1.],\n",
              "       [0.],\n",
              "       [1.],\n",
              "       [1.],\n",
              "       [0.],\n",
              "       [1.],\n",
              "       [0.],\n",
              "       [1.],\n",
              "       [0.],\n",
              "       [0.],\n",
              "       [0.],\n",
              "       [1.],\n",
              "       [0.],\n",
              "       [1.],\n",
              "       [1.],\n",
              "       [1.],\n",
              "       [0.],\n",
              "       [0.],\n",
              "       [0.],\n",
              "       [1.],\n",
              "       [0.],\n",
              "       [0.],\n",
              "       [1.],\n",
              "       [1.],\n",
              "       [1.],\n",
              "       [1.],\n",
              "       [0.],\n",
              "       [0.],\n",
              "       [0.],\n",
              "       [1.],\n",
              "       [1.],\n",
              "       [0.],\n",
              "       [0.],\n",
              "       [1.],\n",
              "       [1.],\n",
              "       [0.],\n",
              "       [1.],\n",
              "       [0.],\n",
              "       [1.],\n",
              "       [1.],\n",
              "       [1.],\n",
              "       [1.],\n",
              "       [0.],\n",
              "       [0.],\n",
              "       [1.],\n",
              "       [0.],\n",
              "       [1.],\n",
              "       [0.],\n",
              "       [1.],\n",
              "       [1.],\n",
              "       [1.],\n",
              "       [0.],\n",
              "       [0.],\n",
              "       [0.],\n",
              "       [0.],\n",
              "       [0.],\n",
              "       [0.],\n",
              "       [0.],\n",
              "       [0.],\n",
              "       [0.],\n",
              "       [1.],\n",
              "       [0.],\n",
              "       [0.],\n",
              "       [0.],\n",
              "       [1.],\n",
              "       [0.],\n",
              "       [0.],\n",
              "       [0.],\n",
              "       [0.],\n",
              "       [0.],\n",
              "       [0.],\n",
              "       [1.],\n",
              "       [1.],\n",
              "       [0.],\n",
              "       [1.],\n",
              "       [0.],\n",
              "       [0.],\n",
              "       [1.],\n",
              "       [1.],\n",
              "       [0.],\n",
              "       [0.],\n",
              "       [0.],\n",
              "       [1.],\n",
              "       [1.],\n",
              "       [1.],\n",
              "       [0.],\n",
              "       [1.],\n",
              "       [0.],\n",
              "       [0.],\n",
              "       [1.],\n",
              "       [0.],\n",
              "       [0.],\n",
              "       [0.],\n",
              "       [1.],\n",
              "       [1.],\n",
              "       [0.],\n",
              "       [1.],\n",
              "       [0.],\n",
              "       [0.],\n",
              "       [1.],\n",
              "       [0.],\n",
              "       [1.],\n",
              "       [1.],\n",
              "       [1.],\n",
              "       [0.],\n",
              "       [1.],\n",
              "       [0.],\n",
              "       [0.],\n",
              "       [1.],\n",
              "       [0.],\n",
              "       [0.],\n",
              "       [0.],\n",
              "       [0.],\n",
              "       [1.],\n",
              "       [1.],\n",
              "       [0.],\n",
              "       [0.],\n",
              "       [1.],\n",
              "       [1.],\n",
              "       [1.],\n",
              "       [0.],\n",
              "       [1.],\n",
              "       [1.],\n",
              "       [0.],\n",
              "       [1.],\n",
              "       [0.],\n",
              "       [0.],\n",
              "       [0.],\n",
              "       [1.],\n",
              "       [0.],\n",
              "       [0.],\n",
              "       [0.],\n",
              "       [0.],\n",
              "       [1.],\n",
              "       [1.],\n",
              "       [1.],\n",
              "       [1.],\n",
              "       [0.],\n",
              "       [0.],\n",
              "       [1.],\n",
              "       [1.],\n",
              "       [1.],\n",
              "       [0.],\n",
              "       [0.],\n",
              "       [0.],\n",
              "       [1.],\n",
              "       [0.],\n",
              "       [1.],\n",
              "       [0.],\n",
              "       [0.],\n",
              "       [0.],\n",
              "       [1.],\n",
              "       [1.],\n",
              "       [1.],\n",
              "       [1.],\n",
              "       [1.],\n",
              "       [1.],\n",
              "       [1.],\n",
              "       [0.],\n",
              "       [1.],\n",
              "       [1.],\n",
              "       [0.],\n",
              "       [0.],\n",
              "       [0.],\n",
              "       [0.],\n",
              "       [1.],\n",
              "       [1.],\n",
              "       [0.],\n",
              "       [1.],\n",
              "       [0.],\n",
              "       [0.],\n",
              "       [1.],\n",
              "       [1.],\n",
              "       [0.],\n",
              "       [0.],\n",
              "       [0.],\n",
              "       [0.],\n",
              "       [0.],\n",
              "       [1.],\n",
              "       [0.],\n",
              "       [1.],\n",
              "       [0.],\n",
              "       [1.],\n",
              "       [1.],\n",
              "       [0.],\n",
              "       [1.],\n",
              "       [0.],\n",
              "       [0.],\n",
              "       [0.],\n",
              "       [1.],\n",
              "       [0.],\n",
              "       [1.],\n",
              "       [1.],\n",
              "       [0.],\n",
              "       [0.],\n",
              "       [1.],\n",
              "       [0.],\n",
              "       [0.],\n",
              "       [1.],\n",
              "       [0.],\n",
              "       [0.],\n",
              "       [1.],\n",
              "       [0.],\n",
              "       [1.],\n",
              "       [1.],\n",
              "       [1.],\n",
              "       [0.],\n",
              "       [1.],\n",
              "       [0.],\n",
              "       [1.],\n",
              "       [1.],\n",
              "       [0.],\n",
              "       [0.],\n",
              "       [0.],\n",
              "       [1.],\n",
              "       [0.],\n",
              "       [1.],\n",
              "       [1.],\n",
              "       [0.],\n",
              "       [0.],\n",
              "       [0.],\n",
              "       [1.],\n",
              "       [0.],\n",
              "       [0.],\n",
              "       [0.],\n",
              "       [0.],\n",
              "       [1.],\n",
              "       [1.],\n",
              "       [0.],\n",
              "       [1.],\n",
              "       [0.],\n",
              "       [0.],\n",
              "       [0.],\n",
              "       [0.],\n",
              "       [0.],\n",
              "       [0.],\n",
              "       [0.],\n",
              "       [1.],\n",
              "       [0.],\n",
              "       [0.],\n",
              "       [1.],\n",
              "       [0.],\n",
              "       [1.],\n",
              "       [1.],\n",
              "       [0.],\n",
              "       [1.],\n",
              "       [0.],\n",
              "       [1.],\n",
              "       [1.],\n",
              "       [1.],\n",
              "       [1.],\n",
              "       [0.],\n",
              "       [0.],\n",
              "       [0.],\n",
              "       [1.],\n",
              "       [1.],\n",
              "       [0.],\n",
              "       [0.],\n",
              "       [1.],\n",
              "       [0.],\n",
              "       [0.],\n",
              "       [0.],\n",
              "       [0.],\n",
              "       [1.],\n",
              "       [1.],\n",
              "       [0.],\n",
              "       [0.],\n",
              "       [0.],\n",
              "       [0.]], dtype=float32)"
            ]
          },
          "metadata": {
            "tags": []
          },
          "execution_count": 60
        }
      ]
    },
    {
      "cell_type": "markdown",
      "metadata": {
        "id": "E_4Klr-Aek0k",
        "colab_type": "text"
      },
      "source": [
        "## Downloading the Data"
      ]
    },
    {
      "cell_type": "code",
      "metadata": {
        "id": "eaemhFf_OrHO",
        "colab_type": "code",
        "colab": {
          "base_uri": "https://localhost:8080/",
          "height": 17
        },
        "outputId": "7c1fd979-647a-49ef-ac40-7b0de8e17e6f"
      },
      "source": [
        "# To create Dataframe of predicted value with particular respective index\n",
        "res = pd.DataFrame(predictions) #preditcions are nothing but the final predictions of the model on input features of the new unseen test data\n",
        "res.index = test_data.index # its important for comparison. Here \"test_new\" is new test dataset\n",
        "res.columns = [\"prediction\"]\n",
        "\n",
        "# To download the csv file locally\n",
        "from google.colab import files\n",
        "res.to_csv('prediction_results.csv')         \n",
        "files.download('prediction_results.csv')\n",
        "\n"
      ],
      "execution_count": null,
      "outputs": [
        {
          "output_type": "display_data",
          "data": {
            "application/javascript": [
              "\n",
              "    async function download(id, filename, size) {\n",
              "      if (!google.colab.kernel.accessAllowed) {\n",
              "        return;\n",
              "      }\n",
              "      const div = document.createElement('div');\n",
              "      const label = document.createElement('label');\n",
              "      label.textContent = `Downloading \"${filename}\": `;\n",
              "      div.appendChild(label);\n",
              "      const progress = document.createElement('progress');\n",
              "      progress.max = size;\n",
              "      div.appendChild(progress);\n",
              "      document.body.appendChild(div);\n",
              "\n",
              "      const buffers = [];\n",
              "      let downloaded = 0;\n",
              "\n",
              "      const channel = await google.colab.kernel.comms.open(id);\n",
              "      // Send a message to notify the kernel that we're ready.\n",
              "      channel.send({})\n",
              "\n",
              "      for await (const message of channel.messages) {\n",
              "        // Send a message to notify the kernel that we're ready.\n",
              "        channel.send({})\n",
              "        if (message.buffers) {\n",
              "          for (const buffer of message.buffers) {\n",
              "            buffers.push(buffer);\n",
              "            downloaded += buffer.byteLength;\n",
              "            progress.value = downloaded;\n",
              "          }\n",
              "        }\n",
              "      }\n",
              "      const blob = new Blob(buffers, {type: 'application/binary'});\n",
              "      const a = document.createElement('a');\n",
              "      a.href = window.URL.createObjectURL(blob);\n",
              "      a.download = filename;\n",
              "      div.appendChild(a);\n",
              "      a.click();\n",
              "      div.remove();\n",
              "    }\n",
              "  "
            ],
            "text/plain": [
              "<IPython.core.display.Javascript object>"
            ]
          },
          "metadata": {
            "tags": []
          }
        },
        {
          "output_type": "display_data",
          "data": {
            "application/javascript": [
              "download(\"download_9b163cec-bad0-49d4-96a8-80a1c9f6cbe3\", \"prediction_results.csv\", 2250)"
            ],
            "text/plain": [
              "<IPython.core.display.Javascript object>"
            ]
          },
          "metadata": {
            "tags": []
          }
        }
      ]
    },
    {
      "cell_type": "markdown",
      "metadata": {
        "id": "Yr_tbHikfagi",
        "colab_type": "text"
      },
      "source": [
        "# References\n",
        " 1. Learning modules from DPhi Deep Learning Bootcamp\n",
        " 2. Binary Classification Notebook from the Bootcamp"
      ]
    },
    {
      "cell_type": "code",
      "metadata": {
        "id": "gEklSF446goZ",
        "colab_type": "code",
        "colab": {}
      },
      "source": [
        ""
      ],
      "execution_count": null,
      "outputs": []
    }
  ]
}